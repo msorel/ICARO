{
 "cells": [
  {
   "cell_type": "markdown",
   "metadata": {},
   "source": [
    "# Notebook Description\n",
    "This notebook computes the XYZ spatial dependences for both the S1 and S2 yields, in the case of alpha particles. \n",
    "\n",
    "First, the Z dependence is computed using fit functions. The Z dependence is modelled as an exponential in the case of S2, and as a 5th degree polynomial for S1. \n",
    "\n",
    "Second, once the Z dependence has been corrected for on average, the XY dependence is extracted for both S1 and S2. \n",
    "\n",
    "The spatial corrections are returned as best-fit function parameters for Z, and as 2D maps for XY. No smoothing/regularization is done for XY. \n",
    "\n",
    "Fiducial alpha events are used to compute these corrections, hence both the inclusive alpha selection and the fiducial selection are applied here."
   ]
  },
  {
   "cell_type": "markdown",
   "metadata": {},
   "source": [
    "# Notebook Configuration"
   ]
  },
  {
   "cell_type": "code",
   "execution_count": null,
   "metadata": {},
   "outputs": [],
   "source": [
    "# General configuration\n",
    "runNumber = 4517\n",
    "numPMTs = 11\n",
    "\n",
    "# Configuration for inclusive alpha selection\n",
    "minNumAllS1s = 1\n",
    "maxNumAllS1s = 1\n",
    "\n",
    "minNumAllS2s = 1\n",
    "maxNumAllS2s = 5\n",
    "\n",
    "minNumSelectedS1s = 1\n",
    "maxNumSelectedS1s = 1\n",
    "\n",
    "minNumSelectedS2s = 1\n",
    "maxNumSelectedS2s = 1\n",
    "\n",
    "minS1Charge =  60 # PEs/PMT\n",
    "maxS1Charge =  1.e6 # PEs/PMT\n",
    "\n",
    "minS2Charge =  200 # PEs/PMT\n",
    "maxS2Charge =  1.e6 # PEs/PMT\n",
    "\n",
    "minS1Width = 0.15 # us\n",
    "maxS1Width = 1 # us\n",
    "\n",
    "minS2Width =  3 # us\n",
    "maxS2Width = 25 # us\n",
    "\n",
    "minS1StartTime =   0 # us\n",
    "maxS1StartTime = 649 # us\n",
    "\n",
    "minS2StartTime = 649 # us\n",
    "maxS2StartTime = 655 # us\n",
    "\n",
    "# Configuration for fiducial selection\n",
    "minZ =       20 # mm\n",
    "maxZ =      520 # mm\n",
    "maxRadius = 178 # mm"
   ]
  },
  {
   "cell_type": "markdown",
   "metadata": {},
   "source": [
    "# Python Imports and Plotting Options"
   ]
  },
  {
   "cell_type": "code",
   "execution_count": null,
   "metadata": {},
   "outputs": [],
   "source": [
    "import os\n",
    "import functools\n",
    "import time\n",
    "from collections import namedtuple\n",
    "\n",
    "\n",
    "import numpy             as np\n",
    "import tables            as tb\n",
    "import pandas            as pd\n",
    "import matplotlib.pyplot as plt\n",
    "\n",
    "import invisible_cities.core.core_functions as coref\n",
    "import invisible_cities.core.fit_functions  as fitf\n",
    "import invisible_cities.reco.dst_functions  as dstf\n",
    "import invisible_cities.io  .dst_io         as dstio\n",
    "import invisible_cities.reco.corrections    as corrf\n",
    "\n",
    "# import invisible_cities.icaro.hst_functions as hst\n",
    "# Import JAH's improved hst functions for now, to allow for statistics boxes in histograms.\n",
    "# Idea is that something like this will be imported in invisible_cities in the future.\n",
    "import myhst_functions as hst\n",
    "\n",
    "# Import alpha selection functions\n",
    "import AlphaSelectionFunctions as asf\n",
    "\n",
    "print(\"Running on:\", time.asctime())"
   ]
  },
  {
   "cell_type": "code",
   "execution_count": null,
   "metadata": {
    "collapsed": true
   },
   "outputs": [],
   "source": [
    "plt.style.available\n",
    "#plt.style.use('seaborn-white')\n",
    "plt.style.use('seaborn-talk')\n",
    "\n",
    "optStat = True"
   ]
  },
  {
   "cell_type": "markdown",
   "metadata": {},
   "source": [
    "# IPython Magic Commands "
   ]
  },
  {
   "cell_type": "code",
   "execution_count": null,
   "metadata": {
    "collapsed": true
   },
   "outputs": [],
   "source": [
    "%load_ext autoreload\n",
    "%autoreload 2\n",
    "%matplotlib inline"
   ]
  },
  {
   "cell_type": "markdown",
   "metadata": {},
   "source": [
    "# KDST Data Reading and Basic Conversions"
   ]
  },
  {
   "cell_type": "code",
   "execution_count": null,
   "metadata": {},
   "outputs": [],
   "source": [
    "inputFolder   = \"/Users/sorel/next/NEXTNEW/data/analysis/{0}/hdf5/dst/\".format(runNumber)\n",
    "inputFilename = inputFolder+\"kdst_{0}_icdev_20171017_3_alpha.h5\".format(runNumber)\n",
    "\n",
    "\n",
    "data = dstf.load_dst(inputFilename, \"DST\", \"Events\")\n",
    "data.S1e = data.S1e/numPMTs # convert to PEs/PMT\n",
    "data.S1w = data.S1w/1.e3 # convert to microseconds\n",
    "data.S1t = data.S1t/1.e3 # convert to microseconds\n",
    "data.S1t = data.S1t - data.S1w/2 # convert to peak start time, assuming symmetric peak\n",
    "\n",
    "data.S2e = data.S2e/numPMTs # convert to PEs/PMT\n",
    "data.S2w = data.S2w # already microseconds\n",
    "data.S2t = data.S2t/1.e3 # convert to microseconds\n",
    "data.S2t = data.S2t - data.S2w/2 # convert to peak start time, assuming symmetric peak\n",
    "\n",
    "# Print KDST data format\n",
    "print('KDST columns:',data.columns.values)"
   ]
  },
  {
   "cell_type": "code",
   "execution_count": null,
   "metadata": {},
   "outputs": [],
   "source": [
    "# Print KDST entries and events statistics \n",
    "events = data.event\n",
    "print('Number of KDST entries:', len(events))\n",
    "print('Number of events: ',      len(events.unique()))"
   ]
  },
  {
   "cell_type": "markdown",
   "metadata": {},
   "source": [
    "# Inclusive Alpha Selection"
   ]
  },
  {
   "cell_type": "code",
   "execution_count": null,
   "metadata": {},
   "outputs": [],
   "source": [
    "# Inclusive alpha selection\n",
    "# Goal: keep events with one and only one alpha-like S1, and one and only one alpha-like S2\n",
    "selInclusiveAlphas, inputEntries, outputEntries = asf.inclusiveAlphaFilter(\n",
    "    data, \n",
    "    minS1Charge,    maxS1Charge,\n",
    "    minS1Width,     maxS1Width,\n",
    "    minS1StartTime, maxS1StartTime,\n",
    "    minS2Charge,    maxS2Charge,\n",
    "    minS2Width,     maxS2Width,\n",
    "    minS2StartTime, maxS2StartTime)\n",
    "\n",
    "print('Inclusive alpha selection:', outputEntries, '/', inputEntries, 'entries')\n",
    "\n",
    "# From now on, work with data frame reduced according to inclusive alpha selection\n",
    "data = data[selInclusiveAlphas]\n",
    "numInclusiveAlphas = sum(selInclusiveAlphas)"
   ]
  },
  {
   "cell_type": "code",
   "execution_count": null,
   "metadata": {},
   "outputs": [],
   "source": [
    "print(numInclusiveAlphas"
   ]
  },
  {
   "cell_type": "markdown",
   "metadata": {},
   "source": [
    "# Fiducial Selection"
   ]
  },
  {
   "cell_type": "code",
   "execution_count": null,
   "metadata": {},
   "outputs": [],
   "source": [
    "# Fiducial selection\n",
    "# Selection of KDST entries based on Z and radial position\n",
    "selFiducial, inputEntries, outputEntries = asf.fiducialFilter(\n",
    "    data,\n",
    "    minZ, maxZ,\n",
    "    maxRadius)\n",
    "\n",
    "print('Fiducial selection:', outputEntries, '/', inputEntries, 'entries')"
   ]
  },
  {
   "cell_type": "code",
   "execution_count": null,
   "metadata": {
    "collapsed": true
   },
   "outputs": [],
   "source": []
  }
 ],
 "metadata": {
  "kernelspec": {
   "display_name": "Python 3",
   "language": "python",
   "name": "python3"
  },
  "language_info": {
   "codemirror_mode": {
    "name": "ipython",
    "version": 3
   },
   "file_extension": ".py",
   "mimetype": "text/x-python",
   "name": "python",
   "nbconvert_exporter": "python",
   "pygments_lexer": "ipython3",
   "version": "3.6.2"
  }
 },
 "nbformat": 4,
 "nbformat_minor": 2
}
