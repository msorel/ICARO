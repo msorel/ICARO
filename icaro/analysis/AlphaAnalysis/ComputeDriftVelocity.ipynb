{
 "cells": [
  {
   "cell_type": "markdown",
   "metadata": {},
   "source": [
    "# Notebook Description\n",
    "This notebook computes the drift velocity, the number of cathode alpha events and related quantities for one/multiple input alpha run(s). These quantities are computed using a sample of inclusive alpha candidates. The inclusive selection is used here because the drift velocity computation relies on cathode events, which are outside the fiducial volume. The inclusive alpha event selection simply requires one and only one alpha-like S1 peak per event, and one and only one alpha-like S2 peak per event. The alpha-like conditions for the peaks are set based on the charge, time width and start time of the peaks."
   ]
  },
  {
   "cell_type": "markdown",
   "metadata": {},
   "source": [
    "# Notebook Configuration"
   ]
  },
  {
   "cell_type": "code",
   "execution_count": null,
   "metadata": {
    "collapsed": true
   },
   "outputs": [],
   "source": [
    "runNumber = 4517\n",
    "numPMTs = 11\n",
    "\n",
    "minNumAllS1s = 1\n",
    "maxNumAllS1s = 1\n",
    "\n",
    "minNumAllS2s = 1\n",
    "maxNumAllS2s = 5\n",
    "\n",
    "minNumSelectedS1s = 1\n",
    "maxNumSelectedS1s = 1\n",
    "\n",
    "minNumSelectedS2s = 1\n",
    "maxNumSelectedS2s = 1\n",
    "\n",
    "minS1Charge =  60. # PEs/PMT\n",
    "maxS1Charge =  1.e6 # PEs/PMT\n",
    "\n",
    "minS2Charge =  200. # PEs/PMT\n",
    "maxS2Charge =  1.e6 # PEs/PMT\n",
    "\n",
    "minS1Width = 0.15 # us\n",
    "maxS1Width = 1. # us\n",
    "\n",
    "minS2Width = 3. # us\n",
    "maxS2Width = 25. # us\n",
    "\n",
    "minS1StartTime = 0. # us\n",
    "maxS1StartTime = 649. # us\n",
    "\n",
    "minS2StartTime = 649. # us\n",
    "maxS2StartTime = 655. # us"
   ]
  },
  {
   "cell_type": "markdown",
   "metadata": {},
   "source": [
    "# Python Imports and Plotting Options"
   ]
  },
  {
   "cell_type": "code",
   "execution_count": null,
   "metadata": {},
   "outputs": [],
   "source": [
    "import os\n",
    "import functools\n",
    "import time\n",
    "from collections import namedtuple\n",
    "\n",
    "\n",
    "import numpy             as np\n",
    "import tables            as tb\n",
    "import pandas            as pd\n",
    "import matplotlib.pyplot as plt\n",
    "\n",
    "import invisible_cities.core.core_functions as coref\n",
    "import invisible_cities.core.fit_functions  as fitf\n",
    "import invisible_cities.reco.dst_functions  as dstf\n",
    "import invisible_cities.io  .dst_io         as dstio\n",
    "import invisible_cities.reco.corrections    as corrf\n",
    "\n",
    "# import invisible_cities.icaro.hst_functions as hst\n",
    "# Import JAH's improved hst functions for now, to allow for statistics boxes in histograms.\n",
    "# Idea is that something like this will be imported in invisible_cities in the future.\n",
    "import myhst_functions as hst\n",
    "\n",
    "# Import alpha selection functions\n",
    "import AlphaSelectionFunctions as asf\n",
    "\n",
    "print(\"Running on:\", time.asctime())"
   ]
  },
  {
   "cell_type": "code",
   "execution_count": null,
   "metadata": {
    "collapsed": true
   },
   "outputs": [],
   "source": [
    "plt.style.available\n",
    "#plt.style.use('seaborn-white')\n",
    "plt.style.use('seaborn-talk')\n",
    "\n",
    "optStat = True"
   ]
  },
  {
   "cell_type": "markdown",
   "metadata": {},
   "source": [
    "# IPython Magic Commands "
   ]
  },
  {
   "cell_type": "code",
   "execution_count": null,
   "metadata": {},
   "outputs": [],
   "source": [
    "%load_ext autoreload\n",
    "%autoreload 2\n",
    "%matplotlib inline"
   ]
  },
  {
   "cell_type": "markdown",
   "metadata": {},
   "source": [
    "# KDST Data Reading and Basic Conversions"
   ]
  },
  {
   "cell_type": "code",
   "execution_count": null,
   "metadata": {},
   "outputs": [],
   "source": [
    "input_folder = \"/Users/sorel/next/NEXTNEW/data/analysis/{0}/hdf5/dst/\".format(runNumber)\n",
    "input_filename = input_folder+\"kdst_{0}_icdev_20171017_3_alpha.h5\".format(runNumber)\n",
    "\n",
    "\n",
    "data = dstf.load_dst(input_filename, \"DST\", \"Events\")\n",
    "data.S1e = data.S1e/numPMTs # convert to PEs/PMT\n",
    "data.S1w = data.S1w/1.e3 # convert to microseconds\n",
    "data.S1t = data.S1t/1.e3 # convert to microseconds\n",
    "data.S1t = data.S1t - data.S1w/2. # convert to peak start time, assuming symmetric peak\n",
    "\n",
    "data.S2e = data.S2e/numPMTs # convert to PEs/PMT\n",
    "data.S2w = data.S2w # already microseconds\n",
    "data.S2t = data.S2t/1.e3 # convert to microseconds\n",
    "data.S2t = data.S2t - data.S2w/2. # convert to peak start time, assuming symmetric peak\n",
    "\n",
    "# Print KDST data format\n",
    "print('KDST columns:',data.columns.values)"
   ]
  },
  {
   "cell_type": "code",
   "execution_count": null,
   "metadata": {},
   "outputs": [],
   "source": [
    "# Print KDST entries and events statistics \n",
    "events = data.event\n",
    "print('Number of KDST entries:',len(events))\n",
    "print('Number of events: ',len(events.unique()))"
   ]
  },
  {
   "cell_type": "markdown",
   "metadata": {},
   "source": [
    "# Inclusive Alpha Selection"
   ]
  },
  {
   "cell_type": "code",
   "execution_count": null,
   "metadata": {},
   "outputs": [],
   "source": [
    "# Histograms of S1 charge, time width and start time. One entry per S1. Since only events with single S1s per events are in the KDST, one entry per S1 means one entry per event.\n",
    "# Trick: in events with multiple S2s, the S1 information is repeated across multiple KDST entries. Fill the histogram just once for those events by selecting the first S2 peak only.\n",
    "selFirstS2 = data.peak == 0\n",
    "hst.hist(data[selFirstS2].S1e, 100, (0, 500), stats=optStat, xylabels=('S1 Charge (PEs/PMT)','Entries'));\n",
    "hst.hist(data[selFirstS2].S1w, 30,  (0, 1.5), stats=optStat, xylabels=('S1 Width ($\\mu$s)','Entries'));\n",
    "hst.hist(data[selFirstS2].S1t, 800, (0,800.), stats=optStat, xylabels=('S1 Start Time ($\\mu$s)','Entries'));\n",
    "# TODO: superimpose vertical lines showing cut values"
   ]
  },
  {
   "cell_type": "code",
   "execution_count": null,
   "metadata": {},
   "outputs": [],
   "source": [
    "# Alpha-like S1 selection \n",
    "selS1, inputEntries, outputEntries = asf.s1Filter(data,\n",
    "                                                  minS1Charge, maxS1Charge,\n",
    "                                                  minS1Width, maxS1Width,\n",
    "                                                  minS1StartTime, maxS1StartTime)\n",
    "\n",
    "print('Alpha-like S1 selection:',outputEntries,'/',inputEntries,'entries')"
   ]
  },
  {
   "cell_type": "code",
   "execution_count": null,
   "metadata": {},
   "outputs": [],
   "source": [
    "# Histograms of S2 charge, time width and start time. One entry per S2. Multiple S2s per event are allowed, hence the number of entries generally exceeds the number of events.\n",
    "hst.hist(data.S2e, 100, (0, 10000), stats=optStat, xylabels=('S2 Charge (PEs/PMT)','Entries'));\n",
    "hst.hist(data.S2w, 30,  (0, 30),    stats=optStat, xylabels=('S2 Width ($\\mu$s)','Entries'));\n",
    "hst.hist(data.S2t, 40,  (630,670.), stats=optStat, xylabels=('S2 Start Time ($\\mu$s)','Entries'));\n",
    "# TODO: superimpose vertical lines showing cut values"
   ]
  },
  {
   "cell_type": "code",
   "execution_count": null,
   "metadata": {},
   "outputs": [],
   "source": [
    "# Alpha-like S2 selection\n",
    "selS2, inputEntries, outputEntries = asf.s2Filter(data,\n",
    "                                                  minS2Charge, maxS2Charge,\n",
    "                                                  minS2Width, maxS2Width,\n",
    "                                                  minS2StartTime, maxS2StartTime)\n",
    "\n",
    "print('Alpha-like S2 selection:',outputEntries,'/',inputEntries,'entries')"
   ]
  },
  {
   "cell_type": "code",
   "execution_count": null,
   "metadata": {},
   "outputs": [],
   "source": [
    "# Inclusive alpha selection\n",
    "# Goal: keep events with one and only one alpha-like S1, and one and only one alpha-like S2\n",
    "selInclusiveAlphas, inputEntries, outputEntries = asf.inclusiveAlphaFilter(data, \n",
    "                                                                           minS1Charge, maxS1Charge,\n",
    "                                                                           minS1Width, maxS1Width,\n",
    "                                                                           minS1StartTime, maxS1StartTime,\n",
    "                                                                           minS2Charge, maxS2Charge,\n",
    "                                                                           minS2Width, maxS2Width,\n",
    "                                                                           minS2StartTime, maxS2StartTime)\n",
    "\n",
    "print('Inclusive alpha selection:',outputEntries,'/',inputEntries,'entries')\n",
    "\n",
    "# From now on, work with data frame reduced according to inclusive alpha selection\n",
    "data = data[selInclusiveAlphas]\n",
    "numInclusiveAlphas=sum(selInclusiveAlphas)"
   ]
  },
  {
   "cell_type": "code",
   "execution_count": null,
   "metadata": {},
   "outputs": [],
   "source": [
    "print(numInclusiveAlphas)"
   ]
  },
  {
   "cell_type": "markdown",
   "metadata": {},
   "source": [
    "# Compute drift velocity, fraction of cathode alpha events and related quantities"
   ]
  },
  {
   "cell_type": "code",
   "execution_count": null,
   "metadata": {},
   "outputs": [],
   "source": [
    "# Drift time histogram near the cathode region\n",
    "y, x, _ = hst.hist(data.DT, 30, (535, 565), stats=optStat, xylabels=('Drift Time ($\\mu$s)','Entries'));\n",
    "# For the fit errors and fit chi2 to be correct, histogram errors on y need to be explicitly set\n",
    "# Hack for now: fit results are not correct when some histogram error elements are zero, so add a small number there for now. To be fixed.  \n",
    "ey = np.sqrt(y)\n",
    "ey[np.where(ey==0)]=1.e-1"
   ]
  },
  {
   "cell_type": "code",
   "execution_count": null,
   "metadata": {},
   "outputs": [],
   "source": [
    "# Fit the drift time histogram above with a gaussian\n",
    "fitResult = fitf.fit(fitf.gauss, x, y, (5.e4, 550., 1.), sigma=ey)\n",
    "# Print the fit results\n",
    "print(fitResult)"
   ]
  },
  {
   "cell_type": "code",
   "execution_count": null,
   "metadata": {},
   "outputs": [],
   "source": [
    "# Draw the drift time histogram with fit superimposed\n",
    "hst.hist(data.DT, 30, (535, 565), stats=optStat, xylabels=('Drift Time ($\\mu$s)','Entries'));\n",
    "fitPoints = np.linspace(535.,565.,1000)\n",
    "plt.plot(fitPoints, fitResult.fn(fitPoints), 'r')"
   ]
  },
  {
   "cell_type": "code",
   "execution_count": null,
   "metadata": {},
   "outputs": [],
   "source": [
    "# Grab fit results for gaussian peak position -> drift velocity\n",
    "driftTime = fitResult.values[1]\n",
    "# Conservative approach: take as error the gaussian width, as opposed to the fit error on the peak position\n",
    "errDriftTime = fitResult.values[2]\n",
    "cathodePos = 532. # mm\n",
    "driftVelocity = cathodePos/driftTime\n",
    "errDriftVelocity = cathodePos*errDriftTime / (driftTime*driftTime)\n",
    "print('Drift time for cathode alphas: (%.2f +/- %.2f) us' %(driftTime, errDriftTime))\n",
    "print('Drift velocity: (%.4f +/- %.4f) mm/us' %(driftVelocity, errDriftVelocity))"
   ]
  },
  {
   "cell_type": "code",
   "execution_count": null,
   "metadata": {},
   "outputs": [],
   "source": [
    "# Grab fit results for gaussian normalization -> fraction of cathode alphas\n",
    "numCathodeAlphas = fitResult.values[0]\n",
    "errNumCathodeAlphas = fitResult.errors[0]\n",
    "fractionCathodeAlphas = numCathodeAlphas/numInclusiveAlphas\n",
    "errFractionCathodeAlphas = errNumCathodeAlphas/numInclusiveAlphas\n",
    "print('Number of cathode alphas: (%.1f +/- %.1f)' %(numCathodeAlphas, errNumCathodeAlphas))\n",
    "print('Fraction of cathode alphas: (%.3f +/- %.3f)' %(fractionCathodeAlphas, errFractionCathodeAlphas))"
   ]
  },
  {
   "cell_type": "code",
   "execution_count": null,
   "metadata": {
    "collapsed": true
   },
   "outputs": [],
   "source": []
  }
 ],
 "metadata": {
  "kernelspec": {
   "display_name": "Python 3",
   "language": "python",
   "name": "python3"
  },
  "language_info": {
   "codemirror_mode": {
    "name": "ipython",
    "version": 3
   },
   "file_extension": ".py",
   "mimetype": "text/x-python",
   "name": "python",
   "nbconvert_exporter": "python",
   "pygments_lexer": "ipython3",
   "version": "3.6.2"
  }
 },
 "nbformat": 4,
 "nbformat_minor": 2
}
